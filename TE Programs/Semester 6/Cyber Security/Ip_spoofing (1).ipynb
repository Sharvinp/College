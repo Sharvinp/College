{
  "cells": [
    {
      "cell_type": "code",
      "source": [
        "import requests\n",
        "import random\n",
        "from bs4 import BeautifulSoup as bs\n",
        "import traceback\n",
        "\n",
        "def get_free_proxies():\n",
        "    url = \"https://free-proxy-list.net/\"\n",
        "    # request and grab content\n",
        "    soup = bs(requests.get(url).content, 'html.parser')\n",
        "    # to store proxies\n",
        "    proxies = []\n",
        "    for row in soup.find(\"table\", attrs={\"class\": \"table-striped\"}).find_all(\"tr\")[1:]:\n",
        "        tds = row.find_all(\"td\")\n",
        "        try:\n",
        "            ip = tds[0].text.strip()\n",
        "            port = tds[1].text.strip()\n",
        "            proxies.append(str(ip) + \":\" + str(port))\n",
        "        except IndexError:\n",
        "            continue\n",
        "    return proxies\n",
        "\n",
        "\n",
        "    url = \"http://httpbin.org/ip\"\n",
        "    proxies = get_free_proxies()\n",
        "\n",
        "for i in range(len(proxies)):\n",
        "\n",
        "    #printing req number\n",
        "    print(\"Request Number : \" + str(i+1))\n",
        "    proxy = proxies[i]\n",
        "    try:\n",
        "        response = requests.get(url, proxies = {\"http\":proxy, \"https\":proxy})\n",
        "        print(response.json())\n",
        "    except:\n",
        "        # if the proxy Ip is pre occupied\n",
        "        print(\"Not Available\")"
      ],
      "metadata": {
        "colab": {
          "base_uri": "https://localhost:8080/",
          "height": 235
        },
        "id": "ydfbcDepWN-d",
        "outputId": "f1d57ff5-eb94-4c5a-bc09-d0e3c491dfba"
      },
      "execution_count": null,
      "outputs": [
        {
          "output_type": "error",
          "ename": "NameError",
          "evalue": "ignored",
          "traceback": [
            "\u001b[0;31m---------------------------------------------------------------------------\u001b[0m",
            "\u001b[0;31mNameError\u001b[0m                                 Traceback (most recent call last)",
            "\u001b[0;32m<ipython-input-3-f41a2933f861>\u001b[0m in \u001b[0;36m<module>\u001b[0;34m()\u001b[0m\n\u001b[1;32m     24\u001b[0m     \u001b[0mproxies\u001b[0m \u001b[0;34m=\u001b[0m \u001b[0mget_free_proxies\u001b[0m\u001b[0;34m(\u001b[0m\u001b[0;34m)\u001b[0m\u001b[0;34m\u001b[0m\u001b[0;34m\u001b[0m\u001b[0m\n\u001b[1;32m     25\u001b[0m \u001b[0;34m\u001b[0m\u001b[0m\n\u001b[0;32m---> 26\u001b[0;31m \u001b[0;32mfor\u001b[0m \u001b[0mi\u001b[0m \u001b[0;32min\u001b[0m \u001b[0mrange\u001b[0m\u001b[0;34m(\u001b[0m\u001b[0mlen\u001b[0m\u001b[0;34m(\u001b[0m\u001b[0mproxies\u001b[0m\u001b[0;34m)\u001b[0m\u001b[0;34m)\u001b[0m\u001b[0;34m:\u001b[0m\u001b[0;34m\u001b[0m\u001b[0;34m\u001b[0m\u001b[0m\n\u001b[0m\u001b[1;32m     27\u001b[0m \u001b[0;34m\u001b[0m\u001b[0m\n\u001b[1;32m     28\u001b[0m     \u001b[0;31m#printing req number\u001b[0m\u001b[0;34m\u001b[0m\u001b[0;34m\u001b[0m\u001b[0;34m\u001b[0m\u001b[0m\n",
            "\u001b[0;31mNameError\u001b[0m: name 'proxies' is not defined"
          ]
        }
      ]
    },
    {
      "cell_type": "code",
      "source": [
        "import requests\n",
        "import random\n",
        "from bs4 import BeautifulSoup as bs\n",
        "import traceback\n",
        "\n",
        "def get_free_proxies():\n",
        "    url = \"https://free-proxy-list.net/\"\n",
        "    # request and grab content\n",
        "    soup = bs(requests.get(url).content, 'html.parser')\n",
        "    # to store proxies\n",
        "    proxies = []\n",
        "    for row in soup.find(\"table\", attrs={\"class\": \"table-striped\"}).find_all(\"tr\")[1:]:\n",
        "        tds = row.find_all(\"td\")\n",
        "        try:\n",
        "            ip = tds[0].text.strip()\n",
        "            port = tds[1].text.strip()\n",
        "            proxies.append(str(ip) + \":\" + str(port))\n",
        "        except IndexError:\n",
        "            continue\n",
        "    return proxies\n",
        "\n",
        "url = \"http://httpbin.org/ip\"\n",
        "proxies = get_free_proxies()\n",
        "\n",
        "for i in range(len(proxies)):\n",
        "\n",
        "    #printing req number\n",
        "    print(\"Request Number : \" + str(i+1))\n",
        "    proxy = proxies[i]\n",
        "    try:\n",
        "        response = requests.get(url, proxies = {\"http\":proxy, \"https\":proxy})\n",
        "        print(response.json())\n",
        "    except:\n",
        "        # if the proxy Ip is pre occupied\n",
        "        print(\"Not Available\")"
      ],
      "metadata": {
        "colab": {
          "base_uri": "https://localhost:8080/"
        },
        "id": "869DNsQPX17t",
        "outputId": "3d51a7d3-1dcc-4ff3-f9d6-78e23e132c62"
      },
      "execution_count": null,
      "outputs": [
        {
          "output_type": "stream",
          "name": "stdout",
          "text": [
            "Request Number : 1\n",
            "{'origin': '76.118.227.8'}\n",
            "Request Number : 2\n",
            "{'origin': '123.176.96.46'}\n",
            "Request Number : 3\n",
            "{'origin': '80.48.119.28'}\n",
            "Request Number : 4\n",
            "Not Available\n",
            "Request Number : 5\n",
            "{'origin': '178.150.148.38'}\n",
            "Request Number : 6\n",
            "{'origin': '5.189.184.6'}\n",
            "Request Number : 7\n",
            "{'origin': '169.57.1.85'}\n",
            "Request Number : 8\n",
            "Not Available\n",
            "Request Number : 9\n",
            "Not Available\n",
            "Request Number : 10\n",
            "{'origin': '43.255.113.232'}\n",
            "Request Number : 11\n",
            "{'origin': '103.149.162.195'}\n",
            "Request Number : 12\n",
            "{'origin': '3.95.61.16'}\n",
            "Request Number : 13\n",
            "Not Available\n",
            "Request Number : 14\n",
            "{'origin': 'httpbin.org, 47.74.152.29'}\n",
            "Request Number : 15\n",
            "{'origin': '40.88.42.108'}\n",
            "Request Number : 16\n"
          ]
        }
      ]
    }
  ],
  "metadata": {
    "colab": {
      "name": "Ip_spoofing.ipynb",
      "provenance": []
    },
    "kernelspec": {
      "display_name": "Python 3",
      "name": "python3"
    },
    "language_info": {
      "name": "python"
    }
  },
  "nbformat": 4,
  "nbformat_minor": 0
}