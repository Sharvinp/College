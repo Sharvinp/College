{
  "nbformat": 4,
  "nbformat_minor": 0,
  "metadata": {
    "colab": {
      "name": "Riya K (9063) ML-1A(air).ipynb",
      "provenance": [],
      "authorship_tag": "ABX9TyOA14Kay9xhmDQX9SmaXJIj",
      "include_colab_link": true
    },
    "kernelspec": {
      "name": "python3",
      "display_name": "Python 3"
    },
    "language_info": {
      "name": "python"
    }
  },
  "cells": [
    {
      "cell_type": "markdown",
      "metadata": {
        "id": "view-in-github",
        "colab_type": "text"
      },
      "source": [
        "<a href=\"https://colab.research.google.com/github/crpytoscooby/College/blob/master/Riya_K_(9063)_ML_1A(air).ipynb\" target=\"_parent\"><img src=\"https://colab.research.google.com/assets/colab-badge.svg\" alt=\"Open In Colab\"/></a>"
      ]
    },
    {
      "cell_type": "markdown",
      "metadata": {
        "id": "4dxQ5KPN3yjD"
      },
      "source": [
        "#**Machine Learning Lab Assignment 1 (Group-A)**"
      ]
    },
    {
      "cell_type": "markdown",
      "metadata": {
        "id": "MpeKYcqr3v_F"
      },
      "source": [
        "**Riya Karambelkar**\n",
        "\n",
        "**TE IT**\n",
        "\n",
        "**Roll No 9063**\n",
        "\n",
        "**Air Data**"
      ]
    },
    {
      "cell_type": "markdown",
      "metadata": {
        "id": "i3Vs1FwgoS6P"
      },
      "source": [
        "Importing numpy and pandas libraries"
      ]
    },
    {
      "cell_type": "code",
      "metadata": {
        "id": "CWQ0YwEhn6Q5"
      },
      "source": [
        "import numpy as np\n",
        "import pandas as pd"
      ],
      "execution_count": 2,
      "outputs": []
    },
    {
      "cell_type": "markdown",
      "metadata": {
        "id": "HzDd9s0lo04w"
      },
      "source": [
        "Loading the air_data.csv dataset in the data variable\n",
        "\n"
      ]
    },
    {
      "cell_type": "code",
      "metadata": {
        "id": "BryYnl9ztD3Q"
      },
      "source": [
        "data=pd.read_csv(\"/content/air_data.csv - air_data.csv.csv\")"
      ],
      "execution_count": 14,
      "outputs": []
    },
    {
      "cell_type": "markdown",
      "metadata": {
        "id": "_mB2XnNAsN5n"
      },
      "source": [
        "# Performing operations on the given dataset:"
      ]
    },
    {
      "cell_type": "markdown",
      "metadata": {
        "id": "LNl8SLxSsYlm"
      },
      "source": [
        "Printing the first five rows"
      ]
    },
    {
      "cell_type": "code",
      "metadata": {
        "colab": {
          "base_uri": "https://localhost:8080/",
          "height": 203
        },
        "id": "B0B_h3sXtU32",
        "outputId": "e4da6376-4dae-489c-fc2e-66016d45749b"
      },
      "source": [
        "data.head()"
      ],
      "execution_count": 15,
      "outputs": [
        {
          "output_type": "execute_result",
          "data": {
            "text/html": [
              "<div>\n",
              "<style scoped>\n",
              "    .dataframe tbody tr th:only-of-type {\n",
              "        vertical-align: middle;\n",
              "    }\n",
              "\n",
              "    .dataframe tbody tr th {\n",
              "        vertical-align: top;\n",
              "    }\n",
              "\n",
              "    .dataframe thead th {\n",
              "        text-align: right;\n",
              "    }\n",
              "</style>\n",
              "<table border=\"1\" class=\"dataframe\">\n",
              "  <thead>\n",
              "    <tr style=\"text-align: right;\">\n",
              "      <th></th>\n",
              "      <th>Unnamed: 0</th>\n",
              "      <th>Ozone</th>\n",
              "      <th>Solar.R</th>\n",
              "      <th>Wind</th>\n",
              "      <th>Temp</th>\n",
              "      <th>Month</th>\n",
              "      <th>Day</th>\n",
              "    </tr>\n",
              "  </thead>\n",
              "  <tbody>\n",
              "    <tr>\n",
              "      <th>0</th>\n",
              "      <td>1</td>\n",
              "      <td>41.0</td>\n",
              "      <td>190.0</td>\n",
              "      <td>7.4</td>\n",
              "      <td>67</td>\n",
              "      <td>5</td>\n",
              "      <td>1</td>\n",
              "    </tr>\n",
              "    <tr>\n",
              "      <th>1</th>\n",
              "      <td>2</td>\n",
              "      <td>36.0</td>\n",
              "      <td>118.0</td>\n",
              "      <td>8.0</td>\n",
              "      <td>72</td>\n",
              "      <td>5</td>\n",
              "      <td>2</td>\n",
              "    </tr>\n",
              "    <tr>\n",
              "      <th>2</th>\n",
              "      <td>3</td>\n",
              "      <td>12.0</td>\n",
              "      <td>149.0</td>\n",
              "      <td>12.6</td>\n",
              "      <td>74</td>\n",
              "      <td>5</td>\n",
              "      <td>3</td>\n",
              "    </tr>\n",
              "    <tr>\n",
              "      <th>3</th>\n",
              "      <td>4</td>\n",
              "      <td>18.0</td>\n",
              "      <td>313.0</td>\n",
              "      <td>11.5</td>\n",
              "      <td>62</td>\n",
              "      <td>5</td>\n",
              "      <td>4</td>\n",
              "    </tr>\n",
              "    <tr>\n",
              "      <th>4</th>\n",
              "      <td>5</td>\n",
              "      <td>NaN</td>\n",
              "      <td>NaN</td>\n",
              "      <td>14.3</td>\n",
              "      <td>56</td>\n",
              "      <td>5</td>\n",
              "      <td>5</td>\n",
              "    </tr>\n",
              "  </tbody>\n",
              "</table>\n",
              "</div>"
            ],
            "text/plain": [
              "   Unnamed: 0  Ozone  Solar.R  Wind  Temp  Month  Day\n",
              "0           1   41.0    190.0   7.4    67      5    1\n",
              "1           2   36.0    118.0   8.0    72      5    2\n",
              "2           3   12.0    149.0  12.6    74      5    3\n",
              "3           4   18.0    313.0  11.5    62      5    4\n",
              "4           5    NaN      NaN  14.3    56      5    5"
            ]
          },
          "metadata": {},
          "execution_count": 15
        }
      ]
    },
    {
      "cell_type": "markdown",
      "metadata": {
        "id": "dRzeC2A4uKDf"
      },
      "source": [
        "Printing last five rows"
      ]
    },
    {
      "cell_type": "code",
      "metadata": {
        "colab": {
          "base_uri": "https://localhost:8080/",
          "height": 203
        },
        "id": "AU5bIlu3uMd3",
        "outputId": "1eb45ff0-98d7-4855-9fa7-d18b3afd3cbe"
      },
      "source": [
        "data.tail()"
      ],
      "execution_count": 16,
      "outputs": [
        {
          "output_type": "execute_result",
          "data": {
            "text/html": [
              "<div>\n",
              "<style scoped>\n",
              "    .dataframe tbody tr th:only-of-type {\n",
              "        vertical-align: middle;\n",
              "    }\n",
              "\n",
              "    .dataframe tbody tr th {\n",
              "        vertical-align: top;\n",
              "    }\n",
              "\n",
              "    .dataframe thead th {\n",
              "        text-align: right;\n",
              "    }\n",
              "</style>\n",
              "<table border=\"1\" class=\"dataframe\">\n",
              "  <thead>\n",
              "    <tr style=\"text-align: right;\">\n",
              "      <th></th>\n",
              "      <th>Unnamed: 0</th>\n",
              "      <th>Ozone</th>\n",
              "      <th>Solar.R</th>\n",
              "      <th>Wind</th>\n",
              "      <th>Temp</th>\n",
              "      <th>Month</th>\n",
              "      <th>Day</th>\n",
              "    </tr>\n",
              "  </thead>\n",
              "  <tbody>\n",
              "    <tr>\n",
              "      <th>103</th>\n",
              "      <td>104</td>\n",
              "      <td>44.0</td>\n",
              "      <td>192.0</td>\n",
              "      <td>11.5</td>\n",
              "      <td>86</td>\n",
              "      <td>8</td>\n",
              "      <td>12</td>\n",
              "    </tr>\n",
              "    <tr>\n",
              "      <th>104</th>\n",
              "      <td>105</td>\n",
              "      <td>28.0</td>\n",
              "      <td>273.0</td>\n",
              "      <td>11.5</td>\n",
              "      <td>82</td>\n",
              "      <td>8</td>\n",
              "      <td>13</td>\n",
              "    </tr>\n",
              "    <tr>\n",
              "      <th>105</th>\n",
              "      <td>106</td>\n",
              "      <td>65.0</td>\n",
              "      <td>157.0</td>\n",
              "      <td>9.7</td>\n",
              "      <td>80</td>\n",
              "      <td>8</td>\n",
              "      <td>14</td>\n",
              "    </tr>\n",
              "    <tr>\n",
              "      <th>106</th>\n",
              "      <td>107</td>\n",
              "      <td>NaN</td>\n",
              "      <td>64.0</td>\n",
              "      <td>11.5</td>\n",
              "      <td>79</td>\n",
              "      <td>8</td>\n",
              "      <td>15</td>\n",
              "    </tr>\n",
              "    <tr>\n",
              "      <th>107</th>\n",
              "      <td>108</td>\n",
              "      <td>22.0</td>\n",
              "      <td>71.0</td>\n",
              "      <td>10.3</td>\n",
              "      <td>77</td>\n",
              "      <td>8</td>\n",
              "      <td>16</td>\n",
              "    </tr>\n",
              "  </tbody>\n",
              "</table>\n",
              "</div>"
            ],
            "text/plain": [
              "     Unnamed: 0  Ozone  Solar.R  Wind  Temp  Month  Day\n",
              "103         104   44.0    192.0  11.5    86      8   12\n",
              "104         105   28.0    273.0  11.5    82      8   13\n",
              "105         106   65.0    157.0   9.7    80      8   14\n",
              "106         107    NaN     64.0  11.5    79      8   15\n",
              "107         108   22.0     71.0  10.3    77      8   16"
            ]
          },
          "metadata": {},
          "execution_count": 16
        }
      ]
    },
    {
      "cell_type": "markdown",
      "metadata": {
        "id": "c1PaZWt5uRRB"
      },
      "source": [
        "Printing shape of data"
      ]
    },
    {
      "cell_type": "code",
      "metadata": {
        "colab": {
          "base_uri": "https://localhost:8080/"
        },
        "id": "OBxpYaOnuUCP",
        "outputId": "1c4424cf-31bc-4340-bd18-5e59bd78d0fa"
      },
      "source": [
        "data.shape"
      ],
      "execution_count": 18,
      "outputs": [
        {
          "output_type": "execute_result",
          "data": {
            "text/plain": [
              "(108, 7)"
            ]
          },
          "metadata": {},
          "execution_count": 18
        }
      ]
    },
    {
      "cell_type": "markdown",
      "metadata": {
        "id": "1o4lthFou3Xp"
      },
      "source": [
        "This means there are 108 rows and 7 columns"
      ]
    },
    {
      "cell_type": "markdown",
      "metadata": {
        "id": "WhRAdgJuu76v"
      },
      "source": [
        "Printing the information of dataframe"
      ]
    },
    {
      "cell_type": "code",
      "metadata": {
        "colab": {
          "base_uri": "https://localhost:8080/",
          "height": 332
        },
        "id": "WPyvZPhau_DH",
        "outputId": "99eb21de-5f2d-418c-9da4-e3ed4ba6cd31"
      },
      "source": [
        "data.describe()"
      ],
      "execution_count": 19,
      "outputs": [
        {
          "output_type": "execute_result",
          "data": {
            "text/html": [
              "<div>\n",
              "<style scoped>\n",
              "    .dataframe tbody tr th:only-of-type {\n",
              "        vertical-align: middle;\n",
              "    }\n",
              "\n",
              "    .dataframe tbody tr th {\n",
              "        vertical-align: top;\n",
              "    }\n",
              "\n",
              "    .dataframe thead th {\n",
              "        text-align: right;\n",
              "    }\n",
              "</style>\n",
              "<table border=\"1\" class=\"dataframe\">\n",
              "  <thead>\n",
              "    <tr style=\"text-align: right;\">\n",
              "      <th></th>\n",
              "      <th>Unnamed: 0</th>\n",
              "      <th>Ozone</th>\n",
              "      <th>Solar.R</th>\n",
              "      <th>Wind</th>\n",
              "      <th>Temp</th>\n",
              "      <th>Month</th>\n",
              "      <th>Day</th>\n",
              "    </tr>\n",
              "  </thead>\n",
              "  <tbody>\n",
              "    <tr>\n",
              "      <th>count</th>\n",
              "      <td>108.00000</td>\n",
              "      <td>74.000000</td>\n",
              "      <td>101.000000</td>\n",
              "      <td>108.000000</td>\n",
              "      <td>108.000000</td>\n",
              "      <td>108.000000</td>\n",
              "      <td>108.00000</td>\n",
              "    </tr>\n",
              "    <tr>\n",
              "      <th>mean</th>\n",
              "      <td>54.50000</td>\n",
              "      <td>42.418919</td>\n",
              "      <td>191.108911</td>\n",
              "      <td>10.087037</td>\n",
              "      <td>77.398148</td>\n",
              "      <td>6.296296</td>\n",
              "      <td>14.75000</td>\n",
              "    </tr>\n",
              "    <tr>\n",
              "      <th>std</th>\n",
              "      <td>31.32092</td>\n",
              "      <td>32.242237</td>\n",
              "      <td>95.527787</td>\n",
              "      <td>3.496142</td>\n",
              "      <td>9.714562</td>\n",
              "      <td>1.043532</td>\n",
              "      <td>8.80009</td>\n",
              "    </tr>\n",
              "    <tr>\n",
              "      <th>min</th>\n",
              "      <td>1.00000</td>\n",
              "      <td>1.000000</td>\n",
              "      <td>7.000000</td>\n",
              "      <td>1.700000</td>\n",
              "      <td>56.000000</td>\n",
              "      <td>5.000000</td>\n",
              "      <td>1.00000</td>\n",
              "    </tr>\n",
              "    <tr>\n",
              "      <th>25%</th>\n",
              "      <td>27.75000</td>\n",
              "      <td>16.500000</td>\n",
              "      <td>101.000000</td>\n",
              "      <td>7.400000</td>\n",
              "      <td>72.000000</td>\n",
              "      <td>5.000000</td>\n",
              "      <td>7.00000</td>\n",
              "    </tr>\n",
              "    <tr>\n",
              "      <th>50%</th>\n",
              "      <td>54.50000</td>\n",
              "      <td>34.500000</td>\n",
              "      <td>220.000000</td>\n",
              "      <td>9.700000</td>\n",
              "      <td>80.000000</td>\n",
              "      <td>6.000000</td>\n",
              "      <td>14.00000</td>\n",
              "    </tr>\n",
              "    <tr>\n",
              "      <th>75%</th>\n",
              "      <td>81.25000</td>\n",
              "      <td>63.750000</td>\n",
              "      <td>273.000000</td>\n",
              "      <td>11.625000</td>\n",
              "      <td>85.000000</td>\n",
              "      <td>7.000000</td>\n",
              "      <td>22.00000</td>\n",
              "    </tr>\n",
              "    <tr>\n",
              "      <th>max</th>\n",
              "      <td>108.00000</td>\n",
              "      <td>135.000000</td>\n",
              "      <td>334.000000</td>\n",
              "      <td>20.700000</td>\n",
              "      <td>93.000000</td>\n",
              "      <td>8.000000</td>\n",
              "      <td>31.00000</td>\n",
              "    </tr>\n",
              "  </tbody>\n",
              "</table>\n",
              "</div>"
            ],
            "text/plain": [
              "       Unnamed: 0       Ozone     Solar.R  ...        Temp       Month        Day\n",
              "count   108.00000   74.000000  101.000000  ...  108.000000  108.000000  108.00000\n",
              "mean     54.50000   42.418919  191.108911  ...   77.398148    6.296296   14.75000\n",
              "std      31.32092   32.242237   95.527787  ...    9.714562    1.043532    8.80009\n",
              "min       1.00000    1.000000    7.000000  ...   56.000000    5.000000    1.00000\n",
              "25%      27.75000   16.500000  101.000000  ...   72.000000    5.000000    7.00000\n",
              "50%      54.50000   34.500000  220.000000  ...   80.000000    6.000000   14.00000\n",
              "75%      81.25000   63.750000  273.000000  ...   85.000000    7.000000   22.00000\n",
              "max     108.00000  135.000000  334.000000  ...   93.000000    8.000000   31.00000\n",
              "\n",
              "[8 rows x 7 columns]"
            ]
          },
          "metadata": {},
          "execution_count": 19
        }
      ]
    },
    {
      "cell_type": "code",
      "metadata": {
        "colab": {
          "base_uri": "https://localhost:8080/"
        },
        "id": "v8fthjdYvFiv",
        "outputId": "e1ba92a3-efe9-493a-8b74-3ca7b2d411e2"
      },
      "source": [
        "data.info()"
      ],
      "execution_count": 20,
      "outputs": [
        {
          "output_type": "stream",
          "text": [
            "<class 'pandas.core.frame.DataFrame'>\n",
            "RangeIndex: 108 entries, 0 to 107\n",
            "Data columns (total 7 columns):\n",
            " #   Column      Non-Null Count  Dtype  \n",
            "---  ------      --------------  -----  \n",
            " 0   Unnamed: 0  108 non-null    int64  \n",
            " 1   Ozone       74 non-null     float64\n",
            " 2   Solar.R     101 non-null    float64\n",
            " 3   Wind        108 non-null    float64\n",
            " 4   Temp        108 non-null    int64  \n",
            " 5   Month       108 non-null    int64  \n",
            " 6   Day         108 non-null    int64  \n",
            "dtypes: float64(3), int64(4)\n",
            "memory usage: 6.0 KB\n"
          ],
          "name": "stdout"
        }
      ]
    },
    {
      "cell_type": "markdown",
      "metadata": {
        "id": "k_mNtW8OvLxo"
      },
      "source": [
        "Finding if there are any missing values in the data"
      ]
    },
    {
      "cell_type": "code",
      "metadata": {
        "colab": {
          "base_uri": "https://localhost:8080/",
          "height": 417
        },
        "id": "8o-2lLHuvTPn",
        "outputId": "d198d841-97c9-49be-deea-bd202218d496"
      },
      "source": [
        "data.isna()"
      ],
      "execution_count": 21,
      "outputs": [
        {
          "output_type": "execute_result",
          "data": {
            "text/html": [
              "<div>\n",
              "<style scoped>\n",
              "    .dataframe tbody tr th:only-of-type {\n",
              "        vertical-align: middle;\n",
              "    }\n",
              "\n",
              "    .dataframe tbody tr th {\n",
              "        vertical-align: top;\n",
              "    }\n",
              "\n",
              "    .dataframe thead th {\n",
              "        text-align: right;\n",
              "    }\n",
              "</style>\n",
              "<table border=\"1\" class=\"dataframe\">\n",
              "  <thead>\n",
              "    <tr style=\"text-align: right;\">\n",
              "      <th></th>\n",
              "      <th>Unnamed: 0</th>\n",
              "      <th>Ozone</th>\n",
              "      <th>Solar.R</th>\n",
              "      <th>Wind</th>\n",
              "      <th>Temp</th>\n",
              "      <th>Month</th>\n",
              "      <th>Day</th>\n",
              "    </tr>\n",
              "  </thead>\n",
              "  <tbody>\n",
              "    <tr>\n",
              "      <th>0</th>\n",
              "      <td>False</td>\n",
              "      <td>False</td>\n",
              "      <td>False</td>\n",
              "      <td>False</td>\n",
              "      <td>False</td>\n",
              "      <td>False</td>\n",
              "      <td>False</td>\n",
              "    </tr>\n",
              "    <tr>\n",
              "      <th>1</th>\n",
              "      <td>False</td>\n",
              "      <td>False</td>\n",
              "      <td>False</td>\n",
              "      <td>False</td>\n",
              "      <td>False</td>\n",
              "      <td>False</td>\n",
              "      <td>False</td>\n",
              "    </tr>\n",
              "    <tr>\n",
              "      <th>2</th>\n",
              "      <td>False</td>\n",
              "      <td>False</td>\n",
              "      <td>False</td>\n",
              "      <td>False</td>\n",
              "      <td>False</td>\n",
              "      <td>False</td>\n",
              "      <td>False</td>\n",
              "    </tr>\n",
              "    <tr>\n",
              "      <th>3</th>\n",
              "      <td>False</td>\n",
              "      <td>False</td>\n",
              "      <td>False</td>\n",
              "      <td>False</td>\n",
              "      <td>False</td>\n",
              "      <td>False</td>\n",
              "      <td>False</td>\n",
              "    </tr>\n",
              "    <tr>\n",
              "      <th>4</th>\n",
              "      <td>False</td>\n",
              "      <td>True</td>\n",
              "      <td>True</td>\n",
              "      <td>False</td>\n",
              "      <td>False</td>\n",
              "      <td>False</td>\n",
              "      <td>False</td>\n",
              "    </tr>\n",
              "    <tr>\n",
              "      <th>...</th>\n",
              "      <td>...</td>\n",
              "      <td>...</td>\n",
              "      <td>...</td>\n",
              "      <td>...</td>\n",
              "      <td>...</td>\n",
              "      <td>...</td>\n",
              "      <td>...</td>\n",
              "    </tr>\n",
              "    <tr>\n",
              "      <th>103</th>\n",
              "      <td>False</td>\n",
              "      <td>False</td>\n",
              "      <td>False</td>\n",
              "      <td>False</td>\n",
              "      <td>False</td>\n",
              "      <td>False</td>\n",
              "      <td>False</td>\n",
              "    </tr>\n",
              "    <tr>\n",
              "      <th>104</th>\n",
              "      <td>False</td>\n",
              "      <td>False</td>\n",
              "      <td>False</td>\n",
              "      <td>False</td>\n",
              "      <td>False</td>\n",
              "      <td>False</td>\n",
              "      <td>False</td>\n",
              "    </tr>\n",
              "    <tr>\n",
              "      <th>105</th>\n",
              "      <td>False</td>\n",
              "      <td>False</td>\n",
              "      <td>False</td>\n",
              "      <td>False</td>\n",
              "      <td>False</td>\n",
              "      <td>False</td>\n",
              "      <td>False</td>\n",
              "    </tr>\n",
              "    <tr>\n",
              "      <th>106</th>\n",
              "      <td>False</td>\n",
              "      <td>True</td>\n",
              "      <td>False</td>\n",
              "      <td>False</td>\n",
              "      <td>False</td>\n",
              "      <td>False</td>\n",
              "      <td>False</td>\n",
              "    </tr>\n",
              "    <tr>\n",
              "      <th>107</th>\n",
              "      <td>False</td>\n",
              "      <td>False</td>\n",
              "      <td>False</td>\n",
              "      <td>False</td>\n",
              "      <td>False</td>\n",
              "      <td>False</td>\n",
              "      <td>False</td>\n",
              "    </tr>\n",
              "  </tbody>\n",
              "</table>\n",
              "<p>108 rows × 7 columns</p>\n",
              "</div>"
            ],
            "text/plain": [
              "     Unnamed: 0  Ozone  Solar.R   Wind   Temp  Month    Day\n",
              "0         False  False    False  False  False  False  False\n",
              "1         False  False    False  False  False  False  False\n",
              "2         False  False    False  False  False  False  False\n",
              "3         False  False    False  False  False  False  False\n",
              "4         False   True     True  False  False  False  False\n",
              "..          ...    ...      ...    ...    ...    ...    ...\n",
              "103       False  False    False  False  False  False  False\n",
              "104       False  False    False  False  False  False  False\n",
              "105       False  False    False  False  False  False  False\n",
              "106       False   True    False  False  False  False  False\n",
              "107       False  False    False  False  False  False  False\n",
              "\n",
              "[108 rows x 7 columns]"
            ]
          },
          "metadata": {},
          "execution_count": 21
        }
      ]
    },
    {
      "cell_type": "code",
      "metadata": {
        "colab": {
          "base_uri": "https://localhost:8080/"
        },
        "id": "ljzQQMKFvXCw",
        "outputId": "a43e6b51-79da-4c8a-c686-b9a0fe8c4714"
      },
      "source": [
        "print(\"The total missing values in the dataframe are: \")\n",
        "print(data.isna().sum())"
      ],
      "execution_count": 22,
      "outputs": [
        {
          "output_type": "stream",
          "text": [
            "The total missing values in the dataframe are: \n",
            "Unnamed: 0     0\n",
            "Ozone         34\n",
            "Solar.R        7\n",
            "Wind           0\n",
            "Temp           0\n",
            "Month          0\n",
            "Day            0\n",
            "dtype: int64\n"
          ],
          "name": "stdout"
        }
      ]
    },
    {
      "cell_type": "markdown",
      "metadata": {
        "id": "szQodAmOvgsZ"
      },
      "source": [
        "Finding datatype of each column"
      ]
    },
    {
      "cell_type": "code",
      "metadata": {
        "colab": {
          "base_uri": "https://localhost:8080/"
        },
        "id": "FtFV5GHivjvi",
        "outputId": "3a5d2724-aca0-473b-dafe-74b3224e1704"
      },
      "source": [
        "data.dtypes"
      ],
      "execution_count": 23,
      "outputs": [
        {
          "output_type": "execute_result",
          "data": {
            "text/plain": [
              "Unnamed: 0      int64\n",
              "Ozone         float64\n",
              "Solar.R       float64\n",
              "Wind          float64\n",
              "Temp            int64\n",
              "Month           int64\n",
              "Day             int64\n",
              "dtype: object"
            ]
          },
          "metadata": {},
          "execution_count": 23
        }
      ]
    },
    {
      "cell_type": "markdown",
      "metadata": {
        "id": "pKJqnez8wLQJ"
      },
      "source": [
        "Finding out zeros in the dataframe"
      ]
    },
    {
      "cell_type": "code",
      "metadata": {
        "colab": {
          "base_uri": "https://localhost:8080/"
        },
        "id": "-wCbSri7wj66",
        "outputId": "508260b8-d7c7-4499-8278-053fa8758369"
      },
      "source": [
        "data.all()"
      ],
      "execution_count": 24,
      "outputs": [
        {
          "output_type": "execute_result",
          "data": {
            "text/plain": [
              "Unnamed: 0    True\n",
              "Ozone         True\n",
              "Solar.R       True\n",
              "Wind          True\n",
              "Temp          True\n",
              "Month         True\n",
              "Day           True\n",
              "dtype: bool"
            ]
          },
          "metadata": {},
          "execution_count": 24
        }
      ]
    },
    {
      "cell_type": "markdown",
      "metadata": {
        "id": "XB99CqnNwoPS"
      },
      "source": [
        "Hence none of the columns contain zero"
      ]
    },
    {
      "cell_type": "markdown",
      "metadata": {
        "id": "ZeRj5jouwsp6"
      },
      "source": [
        "Counting number of zeros in each column"
      ]
    },
    {
      "cell_type": "code",
      "metadata": {
        "colab": {
          "base_uri": "https://localhost:8080/"
        },
        "id": "9VB_F8r_wxXk",
        "outputId": "bad4d6f2-53d9-4a5e-c019-0afd09eac0da"
      },
      "source": [
        "(data==0).sum()"
      ],
      "execution_count": 25,
      "outputs": [
        {
          "output_type": "execute_result",
          "data": {
            "text/plain": [
              "Unnamed: 0    0\n",
              "Ozone         0\n",
              "Solar.R       0\n",
              "Wind          0\n",
              "Temp          0\n",
              "Month         0\n",
              "Day           0\n",
              "dtype: int64"
            ]
          },
          "metadata": {},
          "execution_count": 25
        }
      ]
    },
    {
      "cell_type": "markdown",
      "metadata": {
        "id": "bzulwFyXzhFU"
      },
      "source": [
        "Finding the mean ozone in air"
      ]
    },
    {
      "cell_type": "code",
      "metadata": {
        "colab": {
          "base_uri": "https://localhost:8080/"
        },
        "id": "EO2mvXoSzuZR",
        "outputId": "50ef5406-16b6-4eca-ca73-c5c0a6196e9a"
      },
      "source": [
        "data['Ozone'].mean()"
      ],
      "execution_count": 26,
      "outputs": [
        {
          "output_type": "execute_result",
          "data": {
            "text/plain": [
              "42.41891891891892"
            ]
          },
          "metadata": {},
          "execution_count": 26
        }
      ]
    },
    {
      "cell_type": "markdown",
      "metadata": {
        "id": "Lk39n2aAz1VB"
      },
      "source": [
        "Replacing missing values in the Ozone column by the mean ozone\n"
      ]
    },
    {
      "cell_type": "code",
      "metadata": {
        "colab": {
          "base_uri": "https://localhost:8080/"
        },
        "id": "dpUtWaw80Bxq",
        "outputId": "20eac6db-14c7-4442-b46c-2717b3b6c644"
      },
      "source": [
        "data['Ozone'].fillna(data['Ozone'].mean())"
      ],
      "execution_count": 28,
      "outputs": [
        {
          "output_type": "execute_result",
          "data": {
            "text/plain": [
              "0      41.000000\n",
              "1      36.000000\n",
              "2      12.000000\n",
              "3      18.000000\n",
              "4      42.418919\n",
              "         ...    \n",
              "103    44.000000\n",
              "104    28.000000\n",
              "105    65.000000\n",
              "106    42.418919\n",
              "107    22.000000\n",
              "Name: Ozone, Length: 108, dtype: float64"
            ]
          },
          "metadata": {},
          "execution_count": 28
        }
      ]
    },
    {
      "cell_type": "markdown",
      "metadata": {
        "id": "Xt4QPjri0Osz"
      },
      "source": [
        "Extracting only Ozone, Wind and Temp colums from the dataset"
      ]
    },
    {
      "cell_type": "code",
      "metadata": {
        "colab": {
          "base_uri": "https://localhost:8080/",
          "height": 417
        },
        "id": "4rMzR-ec0c0S",
        "outputId": "89e87c1b-d56b-4e29-d1fd-bc9bad887acd"
      },
      "source": [
        "data1=data[['Ozone', 'Solar.R', 'Wind', 'Temp']]\n",
        "data1"
      ],
      "execution_count": 31,
      "outputs": [
        {
          "output_type": "execute_result",
          "data": {
            "text/html": [
              "<div>\n",
              "<style scoped>\n",
              "    .dataframe tbody tr th:only-of-type {\n",
              "        vertical-align: middle;\n",
              "    }\n",
              "\n",
              "    .dataframe tbody tr th {\n",
              "        vertical-align: top;\n",
              "    }\n",
              "\n",
              "    .dataframe thead th {\n",
              "        text-align: right;\n",
              "    }\n",
              "</style>\n",
              "<table border=\"1\" class=\"dataframe\">\n",
              "  <thead>\n",
              "    <tr style=\"text-align: right;\">\n",
              "      <th></th>\n",
              "      <th>Ozone</th>\n",
              "      <th>Solar.R</th>\n",
              "      <th>Wind</th>\n",
              "      <th>Temp</th>\n",
              "    </tr>\n",
              "  </thead>\n",
              "  <tbody>\n",
              "    <tr>\n",
              "      <th>0</th>\n",
              "      <td>41.0</td>\n",
              "      <td>190.0</td>\n",
              "      <td>7.4</td>\n",
              "      <td>67</td>\n",
              "    </tr>\n",
              "    <tr>\n",
              "      <th>1</th>\n",
              "      <td>36.0</td>\n",
              "      <td>118.0</td>\n",
              "      <td>8.0</td>\n",
              "      <td>72</td>\n",
              "    </tr>\n",
              "    <tr>\n",
              "      <th>2</th>\n",
              "      <td>12.0</td>\n",
              "      <td>149.0</td>\n",
              "      <td>12.6</td>\n",
              "      <td>74</td>\n",
              "    </tr>\n",
              "    <tr>\n",
              "      <th>3</th>\n",
              "      <td>18.0</td>\n",
              "      <td>313.0</td>\n",
              "      <td>11.5</td>\n",
              "      <td>62</td>\n",
              "    </tr>\n",
              "    <tr>\n",
              "      <th>4</th>\n",
              "      <td>NaN</td>\n",
              "      <td>NaN</td>\n",
              "      <td>14.3</td>\n",
              "      <td>56</td>\n",
              "    </tr>\n",
              "    <tr>\n",
              "      <th>...</th>\n",
              "      <td>...</td>\n",
              "      <td>...</td>\n",
              "      <td>...</td>\n",
              "      <td>...</td>\n",
              "    </tr>\n",
              "    <tr>\n",
              "      <th>103</th>\n",
              "      <td>44.0</td>\n",
              "      <td>192.0</td>\n",
              "      <td>11.5</td>\n",
              "      <td>86</td>\n",
              "    </tr>\n",
              "    <tr>\n",
              "      <th>104</th>\n",
              "      <td>28.0</td>\n",
              "      <td>273.0</td>\n",
              "      <td>11.5</td>\n",
              "      <td>82</td>\n",
              "    </tr>\n",
              "    <tr>\n",
              "      <th>105</th>\n",
              "      <td>65.0</td>\n",
              "      <td>157.0</td>\n",
              "      <td>9.7</td>\n",
              "      <td>80</td>\n",
              "    </tr>\n",
              "    <tr>\n",
              "      <th>106</th>\n",
              "      <td>NaN</td>\n",
              "      <td>64.0</td>\n",
              "      <td>11.5</td>\n",
              "      <td>79</td>\n",
              "    </tr>\n",
              "    <tr>\n",
              "      <th>107</th>\n",
              "      <td>22.0</td>\n",
              "      <td>71.0</td>\n",
              "      <td>10.3</td>\n",
              "      <td>77</td>\n",
              "    </tr>\n",
              "  </tbody>\n",
              "</table>\n",
              "<p>108 rows × 4 columns</p>\n",
              "</div>"
            ],
            "text/plain": [
              "     Ozone  Solar.R  Wind  Temp\n",
              "0     41.0    190.0   7.4    67\n",
              "1     36.0    118.0   8.0    72\n",
              "2     12.0    149.0  12.6    74\n",
              "3     18.0    313.0  11.5    62\n",
              "4      NaN      NaN  14.3    56\n",
              "..     ...      ...   ...   ...\n",
              "103   44.0    192.0  11.5    86\n",
              "104   28.0    273.0  11.5    82\n",
              "105   65.0    157.0   9.7    80\n",
              "106    NaN     64.0  11.5    79\n",
              "107   22.0     71.0  10.3    77\n",
              "\n",
              "[108 rows x 4 columns]"
            ]
          },
          "metadata": {},
          "execution_count": 31
        }
      ]
    },
    {
      "cell_type": "markdown",
      "metadata": {
        "id": "HmRQjKjj1_KC"
      },
      "source": [
        "Replacing the missing values with mean values"
      ]
    },
    {
      "cell_type": "code",
      "metadata": {
        "colab": {
          "base_uri": "https://localhost:8080/"
        },
        "id": "QnYkDJv42OeK",
        "outputId": "8a5dbfeb-b158-4064-fca5-d4881f45fa3f"
      },
      "source": [
        "data1['Solar.R'].mean()"
      ],
      "execution_count": 32,
      "outputs": [
        {
          "output_type": "execute_result",
          "data": {
            "text/plain": [
              "191.1089108910891"
            ]
          },
          "metadata": {},
          "execution_count": 32
        }
      ]
    },
    {
      "cell_type": "code",
      "metadata": {
        "colab": {
          "base_uri": "https://localhost:8080/",
          "height": 417
        },
        "id": "NYXLMaiA2T4h",
        "outputId": "5253fcc9-320d-486d-ef82-5e3168f0a5c9"
      },
      "source": [
        "data1=data1.fillna(data1.mean())\n",
        "data1"
      ],
      "execution_count": 33,
      "outputs": [
        {
          "output_type": "execute_result",
          "data": {
            "text/html": [
              "<div>\n",
              "<style scoped>\n",
              "    .dataframe tbody tr th:only-of-type {\n",
              "        vertical-align: middle;\n",
              "    }\n",
              "\n",
              "    .dataframe tbody tr th {\n",
              "        vertical-align: top;\n",
              "    }\n",
              "\n",
              "    .dataframe thead th {\n",
              "        text-align: right;\n",
              "    }\n",
              "</style>\n",
              "<table border=\"1\" class=\"dataframe\">\n",
              "  <thead>\n",
              "    <tr style=\"text-align: right;\">\n",
              "      <th></th>\n",
              "      <th>Ozone</th>\n",
              "      <th>Solar.R</th>\n",
              "      <th>Wind</th>\n",
              "      <th>Temp</th>\n",
              "    </tr>\n",
              "  </thead>\n",
              "  <tbody>\n",
              "    <tr>\n",
              "      <th>0</th>\n",
              "      <td>41.000000</td>\n",
              "      <td>190.000000</td>\n",
              "      <td>7.4</td>\n",
              "      <td>67</td>\n",
              "    </tr>\n",
              "    <tr>\n",
              "      <th>1</th>\n",
              "      <td>36.000000</td>\n",
              "      <td>118.000000</td>\n",
              "      <td>8.0</td>\n",
              "      <td>72</td>\n",
              "    </tr>\n",
              "    <tr>\n",
              "      <th>2</th>\n",
              "      <td>12.000000</td>\n",
              "      <td>149.000000</td>\n",
              "      <td>12.6</td>\n",
              "      <td>74</td>\n",
              "    </tr>\n",
              "    <tr>\n",
              "      <th>3</th>\n",
              "      <td>18.000000</td>\n",
              "      <td>313.000000</td>\n",
              "      <td>11.5</td>\n",
              "      <td>62</td>\n",
              "    </tr>\n",
              "    <tr>\n",
              "      <th>4</th>\n",
              "      <td>42.418919</td>\n",
              "      <td>191.108911</td>\n",
              "      <td>14.3</td>\n",
              "      <td>56</td>\n",
              "    </tr>\n",
              "    <tr>\n",
              "      <th>...</th>\n",
              "      <td>...</td>\n",
              "      <td>...</td>\n",
              "      <td>...</td>\n",
              "      <td>...</td>\n",
              "    </tr>\n",
              "    <tr>\n",
              "      <th>103</th>\n",
              "      <td>44.000000</td>\n",
              "      <td>192.000000</td>\n",
              "      <td>11.5</td>\n",
              "      <td>86</td>\n",
              "    </tr>\n",
              "    <tr>\n",
              "      <th>104</th>\n",
              "      <td>28.000000</td>\n",
              "      <td>273.000000</td>\n",
              "      <td>11.5</td>\n",
              "      <td>82</td>\n",
              "    </tr>\n",
              "    <tr>\n",
              "      <th>105</th>\n",
              "      <td>65.000000</td>\n",
              "      <td>157.000000</td>\n",
              "      <td>9.7</td>\n",
              "      <td>80</td>\n",
              "    </tr>\n",
              "    <tr>\n",
              "      <th>106</th>\n",
              "      <td>42.418919</td>\n",
              "      <td>64.000000</td>\n",
              "      <td>11.5</td>\n",
              "      <td>79</td>\n",
              "    </tr>\n",
              "    <tr>\n",
              "      <th>107</th>\n",
              "      <td>22.000000</td>\n",
              "      <td>71.000000</td>\n",
              "      <td>10.3</td>\n",
              "      <td>77</td>\n",
              "    </tr>\n",
              "  </tbody>\n",
              "</table>\n",
              "<p>108 rows × 4 columns</p>\n",
              "</div>"
            ],
            "text/plain": [
              "         Ozone     Solar.R  Wind  Temp\n",
              "0    41.000000  190.000000   7.4    67\n",
              "1    36.000000  118.000000   8.0    72\n",
              "2    12.000000  149.000000  12.6    74\n",
              "3    18.000000  313.000000  11.5    62\n",
              "4    42.418919  191.108911  14.3    56\n",
              "..         ...         ...   ...   ...\n",
              "103  44.000000  192.000000  11.5    86\n",
              "104  28.000000  273.000000  11.5    82\n",
              "105  65.000000  157.000000   9.7    80\n",
              "106  42.418919   64.000000  11.5    79\n",
              "107  22.000000   71.000000  10.3    77\n",
              "\n",
              "[108 rows x 4 columns]"
            ]
          },
          "metadata": {},
          "execution_count": 33
        }
      ]
    },
    {
      "cell_type": "markdown",
      "metadata": {
        "id": "c1wE0tmg2nzT"
      },
      "source": [
        "Dividing the dataset in training(75%) and testing(25%)"
      ]
    },
    {
      "cell_type": "code",
      "metadata": {
        "id": "x4BGHYDv2v99"
      },
      "source": [
        "from sklearn.model_selection import train_test_split\n",
        "\n",
        "train_data, test_data = train_test_split(data1, test_size=0.25)"
      ],
      "execution_count": 34,
      "outputs": []
    },
    {
      "cell_type": "code",
      "metadata": {
        "colab": {
          "base_uri": "https://localhost:8080/"
        },
        "id": "gp6xHCwR21RS",
        "outputId": "e4b447de-0a74-48cd-ce9a-94689ba1d57f"
      },
      "source": [
        "train_data.shape"
      ],
      "execution_count": 35,
      "outputs": [
        {
          "output_type": "execute_result",
          "data": {
            "text/plain": [
              "(81, 4)"
            ]
          },
          "metadata": {},
          "execution_count": 35
        }
      ]
    },
    {
      "cell_type": "code",
      "metadata": {
        "colab": {
          "base_uri": "https://localhost:8080/"
        },
        "id": "QlslskTk24YX",
        "outputId": "ede1c7a5-d0b9-4071-c141-fead55af6e3c"
      },
      "source": [
        "test_data.shape"
      ],
      "execution_count": 36,
      "outputs": [
        {
          "output_type": "execute_result",
          "data": {
            "text/plain": [
              "(27, 4)"
            ]
          },
          "metadata": {},
          "execution_count": 36
        }
      ]
    }
  ]
}
