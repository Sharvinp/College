{
  "nbformat": 4,
  "nbformat_minor": 0,
  "metadata": {
    "colab": {
      "name": "Spam_Filtering.ipynb",
      "provenance": [],
      "collapsed_sections": []
    },
    "kernelspec": {
      "name": "python3",
      "display_name": "Python 3"
    },
    "language_info": {
      "name": "python"
    }
  },
  "cells": [
    {
      "cell_type": "code",
      "execution_count": null,
      "metadata": {
        "id": "4imQam9tESWR"
      },
      "outputs": [],
      "source": [
        "#import libraries\n",
        "import pandas as pd\n",
        "from sklearn.model_selection import train_test_split\n",
        "from sklearn.feature_extraction.text import CountVectorizer\n",
        "from sklearn import svm "
      ]
    },
    {
      "cell_type": "code",
      "source": [
        "#Load our Dataset\n",
        "spam = pd.read_csv('/content/spam.csv - spam.csv (1).csv')"
      ],
      "metadata": {
        "id": "8rPPrvJCEawc"
      },
      "execution_count": null,
      "outputs": []
    },
    {
      "cell_type": "code",
      "source": [
        "#Printing First 5 entries\n",
        "spam.head()"
      ],
      "metadata": {
        "id": "cD3wEfZTEgMm"
      },
      "execution_count": null,
      "outputs": []
    },
    {
      "cell_type": "code",
      "source": [
        "#Printing last 5 entries\n",
        "spam.tail()"
      ],
      "metadata": {
        "id": "wLHHU2aVEjIE"
      },
      "execution_count": null,
      "outputs": []
    },
    {
      "cell_type": "code",
      "source": [
        "#Visual Representation\n",
        "import seaborn as sns\n",
        "from matplotlib import pyplot as plt\n",
        "sns.countplot(x='v1' , data=spam)\n",
        "plt.ylabel(\"Count\")\n",
        "plt.xlabel(\"Type of Mail\")"
      ],
      "metadata": {
        "id": "zMNTFOxPEmXJ"
      },
      "execution_count": null,
      "outputs": []
    },
    {
      "cell_type": "code",
      "source": [
        "#Splitting our data into x and y.\n",
        "x = spam['v2']\n",
        "y = spam[\"v1\"]"
      ],
      "metadata": {
        "id": "34bpphIzEslH"
      },
      "execution_count": null,
      "outputs": []
    },
    {
      "cell_type": "code",
      "source": [
        "#Splitting our data into training and testing.\n",
        "x_train, x_test,y_train, y_test = train_test_split(x,y,test_size = 0.2)"
      ],
      "metadata": {
        "id": "tjFKOKFAEvYJ"
      },
      "execution_count": null,
      "outputs": []
    },
    {
      "cell_type": "markdown",
      "source": [
        "# #Method1: **SVM**"
      ],
      "metadata": {
        "id": "EkFlNtOeEyHO"
      }
    },
    {
      "cell_type": "code",
      "source": [
        "#CountVectorizer() is used to transform a given text into a vector on the basis of the frequency (count) of each word that occurs in the entire text.\n",
        "#Converting text into integer using CountVectorizer()\n",
        "cv = CountVectorizer()\n",
        "x_train = cv.fit_transform(x_train)\n",
        "x_test = cv.transform(x_test)"
      ],
      "metadata": {
        "id": "vYccZHEfE0mc"
      },
      "execution_count": null,
      "outputs": []
    },
    {
      "cell_type": "code",
      "source": [
        "#Applying SVM algorithm\n",
        "model = svm.SVC()\n",
        "model.fit(x_train,y_train)"
      ],
      "metadata": {
        "id": "-MllzVXcE6OD"
      },
      "execution_count": null,
      "outputs": []
    },
    {
      "cell_type": "code",
      "source": [
        "acc1=model.score(x_test,y_test)\n",
        "print(\"Accuracy: \" , acc1)"
      ],
      "metadata": {
        "id": "dq2hxzaNE-Ra"
      },
      "execution_count": null,
      "outputs": []
    },
    {
      "cell_type": "code",
      "source": [
        "#Evaluate the model on the test data set\n",
        "from sklearn.metrics import classification_report,confusion_matrix, accuracy_score\n",
        "pred = model.predict(x_test)\n",
        "\n",
        "print(classification_report(y_test ,pred ))\n",
        "print('Confusion Matrix: \\n', confusion_matrix(y_test,pred))\n",
        "print('Accuracy: ', accuracy_score(y_test,pred))"
      ],
      "metadata": {
        "id": "mj3y1oAgFCLs"
      },
      "execution_count": null,
      "outputs": []
    },
    {
      "cell_type": "markdown",
      "source": [
        "# #Method 2: **naive_bayes**"
      ],
      "metadata": {
        "id": "fzdweAsBFGFO"
      }
    },
    {
      "cell_type": "code",
      "source": [
        "#Need to download stopwords\n",
        "import nltk\n",
        "from nltk.corpus import stopwords\n",
        "nltk.download('stopwords')"
      ],
      "metadata": {
        "id": "Ng9RkFmhFH9p"
      },
      "execution_count": null,
      "outputs": []
    },
    {
      "cell_type": "code",
      "source": [
        "def process_text(text):\n",
        "    \n",
        "    #1 Remove Punctuations\n",
        "    nopunc = [char for char in text if char not in string.punctuation]\n",
        "    nopunc = ''.join(nopunc)\n",
        "    \n",
        "    #2 Remove Stop Words\n",
        "    clean_words = [word for word in nopunc.split() if word.lower() not in stopwords.words('english')]\n",
        "    \n",
        "    #3 Return a list of clean words\n",
        "    return clean_words"
      ],
      "metadata": {
        "id": "3W8UciBUFNtj"
      },
      "execution_count": null,
      "outputs": []
    },
    {
      "cell_type": "code",
      "source": [
        "#Applying Naive Bayes Algorithm\n",
        "from sklearn.naive_bayes import MultinomialNB\n",
        "classifier = MultinomialNB()\n",
        "classifier.fit(x_train, y_train)"
      ],
      "metadata": {
        "id": "A2Nrq-xTFRRP"
      },
      "execution_count": null,
      "outputs": []
    },
    {
      "cell_type": "code",
      "source": [
        "#Evaluate the model on the test data set\n",
        "from sklearn.metrics import classification_report,confusion_matrix, accuracy_score\n",
        "pred = classifier.predict(x_test)\n",
        "\n",
        "print(classification_report(y_test ,pred ))\n",
        "print('Confusion Matrix: \\n', confusion_matrix(y_test,pred))\n",
        "print()\n",
        "acc2=accuracy_score(y_test,pred)\n",
        "print('Accuracy: ',acc2 )"
      ],
      "metadata": {
        "id": "LT1Y0BydFWtc"
      },
      "execution_count": null,
      "outputs": []
    }
  ]
}